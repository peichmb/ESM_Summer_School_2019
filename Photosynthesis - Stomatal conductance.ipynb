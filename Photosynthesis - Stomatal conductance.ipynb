{
 "cells": [
  {
   "cell_type": "code",
   "execution_count": 1,
   "metadata": {},
   "outputs": [],
   "source": [
    "from __future__ import print_function\n",
    "from ipywidgets import interact, interactive, fixed, interact_manual\n",
    "import ipywidgets as widgets\n",
    "from math import exp, sqrt"
   ]
  },
  {
   "cell_type": "code",
   "execution_count": 2,
   "metadata": {},
   "outputs": [],
   "source": [
    "# Parameters\n",
    "# ----------\n",
    "p_air = 1.e5\n",
    "alpha = 0.06\n",
    "m = 9.\n",
    "b = 2000.\n",
    "ca = 355e-6 * p_air\n",
    "d_leaf = 0.04\n",
    "vmax_25 = 69."
   ]
  },
  {
   "cell_type": "code",
   "execution_count": 3,
   "metadata": {},
   "outputs": [],
   "source": [
    "def esat(temp_deg):\n",
    "    return 100.*6.112*exp(17.62*temp_deg/(243.12 + temp_deg))"
   ]
  },
  {
   "cell_type": "code",
   "execution_count": 4,
   "metadata": {},
   "outputs": [],
   "source": [
    "def photosynthesis(pathway, ci, par, vmax, temp_leaf):\n",
    "    \n",
    "    kc = 30. * 2.1**((temp_leaf - 25.)/10.)\n",
    "    ko = 30000. * 1.2**((temp_leaf - 25.)/10.)\n",
    "    oi = 0.209*p_air\n",
    "    gamma_star = 0.5 * kc/ko * 0.21*oi\n",
    "    \n",
    "    assert ci - gamma_star >= 0.\n",
    "    \n",
    "    if pathway == 'C3':\n",
    "        wc = (ci - gamma_star)*vmax / (ci + kc*(1.+oi/ko))\n",
    "        wj = (ci - gamma_star)*4.6*par*alpha / (ci + 2.*gamma_star)\n",
    "    elif pathway == 'C4':\n",
    "        wc = vmax\n",
    "        wj = 4.6*par*alpha\n",
    "    else:\n",
    "        \"WARNING! PHOTOSYNTHETIC PATHWAY WRONGLY SPECIFIED\"\n",
    "    \n",
    "    # Gross leaf photosynthesis\n",
    "    ag = min(wc,wj)\n",
    "    return ag"
   ]
  },
  {
   "cell_type": "code",
   "execution_count": 5,
   "metadata": {},
   "outputs": [],
   "source": [
    "def phot_thermal_breakdown(temp_leaf):\n",
    "    return 1. / (1. + exp((-220000.+710.*(temp_leaf+273.15))/(8314.4676*0.001*(temp_leaf+273.15))))"
   ]
  },
  {
   "cell_type": "code",
   "execution_count": 6,
   "metadata": {},
   "outputs": [],
   "source": [
    "def lpj_thermal_inhibition(temp_leaf):\n",
    "    pstemp_min = -5\n",
    "    pstemp_low = 10\n",
    "    pstemp_high = 30\n",
    "    pstemp_max = 45\n",
    "    k1 = (pstemp_min+pstemp_low) / 2.0;\n",
    "    return (1. - .01*exp(4.6/(pstemp_max-pstemp_high)*(temp_leaf-pstemp_high)))/(1.0+exp((k1-temp_leaf)/(k1-pstemp_min)*4.6));"
   ]
  },
  {
   "cell_type": "code",
   "execution_count": 7,
   "metadata": {},
   "outputs": [],
   "source": [
    "def stomatal(pathway, par, beta, temp_leaf, rh_air, temp_air=20, wind_speed=10):\n",
    "    \n",
    "    ea = esat(temp_air)*rh_air/100.\n",
    "    ptemp_air = (temp_air+273.15)*(p_air/1.e5)**0.28557 # Potential temperature of air\n",
    "    co2m = 1.e-9 * 8314.4676 * ptemp_air/p_air # [umol-1 m2 s / s m-1]\n",
    "    rb = 223.*sqrt(d_leaf/wind_speed) * co2m\n",
    "    \n",
    "    vmax = vmax_25 * 2.4**((temp_leaf - 25.)/10.) * beta * phot_thermal_breakdown(temp_leaf)\n",
    "\n",
    "    \n",
    "    if pathway == 'C3':\n",
    "        ci = 0.7*ca\n",
    "    elif pathway == 'C4':\n",
    "        ci = 0.4*ca\n",
    "    else:\n",
    "        \"WARNING! PHOTOSYNTHETIC PATHWAY WRONGLY SPECIFIED\"\n",
    "    \n",
    "    for _ in range(3):\n",
    "        \n",
    "        ag = photosynthesis(pathway, ci, par, vmax, temp_leaf)\n",
    "        \n",
    "        cs = ca - 1.37*rb*p_air*ag\n",
    "        ei = esat(temp_leaf)\n",
    "        eap = max(min(ea, ei),0.25*ei)\n",
    "        \n",
    "        aaa = m*ag*p_air*eap/cs/ei + b\n",
    "        bbb = m*ag*p_air*rb/cs + b*rb - 1.\n",
    "        ccc = -rb\n",
    "        \n",
    "        rs1 = (-bbb + sqrt(bbb**2 - 4.*aaa*ccc)) / (2.*aaa)\n",
    "        rs2 = (-bbb - sqrt(bbb**2 - 4.*aaa*ccc)) / (2.*aaa)\n",
    "        rs = max(rs1, rs2)\n",
    "        \n",
    "        lambda_max = 0.8\n",
    "        ci = min(cs - 1.65*rs*p_air*ag, lambda_max*ca)\n",
    "    \n",
    "    rs = rs/co2m\n",
    "    \n",
    "    print(\"\\n\")\n",
    "    print(\"Photon flux [10^(-6) mol / m^2 / s] = \" + str(round(4.6*par,3)))\n",
    "    print(\"Gross leaf photosynthesis [10^(-6) mol / m^2 / s] = \" + str(round(ag,3)))\n",
    "    print(\"Stomatal resistance [s/m] = \" + str(round(rs,3)))\n",
    "    \n",
    "    return"
   ]
  },
  {
   "cell_type": "code",
   "execution_count": 8,
   "metadata": {},
   "outputs": [
    {
     "data": {
      "application/vnd.jupyter.widget-view+json": {
       "model_id": "8cb29295f4cc4f808fe4a7bae5bebb48",
       "version_major": 2,
       "version_minor": 0
      },
      "text/plain": [
       "interactive(children=(RadioButtons(description='Photosynthetic pathway:', options=('C3', 'C4'), value='C3'), I…"
      ]
     },
     "metadata": {},
     "output_type": "display_data"
    },
    {
     "data": {
      "text/plain": [
       "<function __main__.stomatal(pathway, par, beta, temp_leaf, rh_air, temp_air=20, wind_speed=10)>"
      ]
     },
     "execution_count": 8,
     "metadata": {},
     "output_type": "execute_result"
    }
   ],
   "source": [
    "interact(stomatal,\n",
    "         pathway = widgets.RadioButtons(options=['C3', 'C4'], value='C3',\n",
    "                                         description='Photosynthetic pathway:',\n",
    "                                         disabled=False),\n",
    "          par = widgets.IntSlider(min=0,max=200,step=1,value=50,description=\"PAR [W/m2]\"),\n",
    "          beta = widgets.FloatSlider(min=0,max=1,step=0.05,value=0.75,description=\"Soil moisture\"),\n",
    "          temp_leaf = widgets.IntSlider(min=-20,max=40,step=1,value=15,description=\"Leaf temp.\"),\n",
    "          rh_air = widgets.FloatSlider(min=0,max=100,step=5,value=50,description=\"Air humidity\"),\n",
    "          temp_air = widgets.IntSlider(min=3,max=30,step=1,value=12,description=\"Air temp.\"),\n",
    "          wind_speed = widgets.FloatSlider(min=0.1,max=10,step=0.1,value=1.,description=\"Wind speed\"),\n",
    "         )"
   ]
  },
  {
   "cell_type": "code",
   "execution_count": null,
   "metadata": {},
   "outputs": [],
   "source": []
  }
 ],
 "metadata": {
  "kernelspec": {
   "display_name": "Python 3",
   "language": "python",
   "name": "python3"
  },
  "language_info": {
   "codemirror_mode": {
    "name": "ipython",
    "version": 3
   },
   "file_extension": ".py",
   "mimetype": "text/x-python",
   "name": "python",
   "nbconvert_exporter": "python",
   "pygments_lexer": "ipython3",
   "version": "3.5.3"
  }
 },
 "nbformat": 4,
 "nbformat_minor": 2
}
