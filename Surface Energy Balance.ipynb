{
 "cells": [
  {
   "cell_type": "code",
   "execution_count": 5,
   "metadata": {},
   "outputs": [],
   "source": [
    "# Problem data\n",
    "# ------------\n",
    "\n",
    "# Radiative forcing\n",
    "sw_down = 700. # W/m2\n",
    "lw_down = 200. # W/m2\n",
    "albedo = 50. # %\n",
    "\n",
    "# Aerodynamic resistance\n",
    "ra = 50. # s/m\n",
    "\n",
    "# Surface resistance\n",
    "rsrf = 200. # s/m\n",
    "# relative soil humidity\n",
    "alpha = 0.8\n",
    "\n",
    "# Air temperature and relative humidity (%)\n",
    "temp_air = 20. # degC\n",
    "rh = 80. # %\n",
    "\n",
    "# Soil temperature at depht depth_soil, and thermal conductivity\n",
    "temp_soil = 30. # degC\n",
    "depth_soil = 0.1 # m\n",
    "k_soil = 1.5 # W/m/degC\n",
    "\n",
    "# Air density, air heat capacity at constant pressure, and water latent heat of vaporization\n",
    "rho = 1.25 # kg/m3\n",
    "cp = 1005. # J/kg/K\n",
    "le = 2.4e6 # J/kg\n",
    "\n",
    "# Stefan-Boltzman's constant\n",
    "sigma = 5.67e-8 # W/m2/K4"
   ]
  },
  {
   "cell_type": "code",
   "execution_count": 6,
   "metadata": {},
   "outputs": [],
   "source": [
    "# Water vapour pressure of saturated air\n",
    "# See https://www.engineeringtoolbox.com/water-vapor-saturation-pressure-air-d_689.html\n",
    "\n",
    "from math import exp\n",
    "\n",
    "def psat(temp_deg, pres):\n",
    "    temp_kelvin = temp_deg + 273.15\n",
    "    a, b, c, d = 77.345, 0.0057, 7235., 8.2\n",
    "    pws = exp(a + b*temp_kelvin - c/temp_kelvin) / (temp_kelvin**d)\n",
    "    dpwsdt = (b + c/temp_kelvin**2 - d/temp_kelvin) * pws\n",
    "    return pws, dpwsdt\n",
    "\n",
    "# Specific humidity of saturated air and its derivative\n",
    "def qsat(temp_deg, pres):\n",
    "    temp_kelvin = temp_deg + 273.15\n",
    "    beta, gamma = 0.622, 0.378\n",
    "    pws, dpwsdt = psat(temp_deg, pres)\n",
    "    q = beta*pws/(pres-gamma*pws)\n",
    "    dq = beta/(pres-gamma*pws)*(1. + gamma*pws/(pres-gamma*pws))*dpwsdt\n",
    "    return q, dq"
   ]
  },
  {
   "cell_type": "code",
   "execution_count": 7,
   "metadata": {},
   "outputs": [],
   "source": [
    "# Energy balance\n",
    "# --------------\n",
    "\n",
    "from math import log10\n",
    "\n",
    "def ebalance_surface(sw_down, lw_down, ra, rsrf, alpha, temp_air, rh, temp_soil):\n",
    "    \n",
    "    # Initial values\n",
    "    q_air =rh/100.*qsat(temp_air, 101325.)[0]\n",
    "    temp_g = temp_air\n",
    "    dtemp = 1e3\n",
    "    \n",
    "    niter = 0\n",
    "    \n",
    "    rad_forcing = sw_down * (1-albedo/100.) + lw_down\n",
    "    \n",
    "    # Begin Newton Rhapson iteration\n",
    "    while abs(dtemp) > 0.02:\n",
    "        \n",
    "        q_g, dq_g = qsat(temp_g, 101325.)\n",
    "        q_g, dq_g = alpha*q_g, alpha*dq_g\n",
    "        \n",
    "        lw_up = sigma*(temp_g + 273.15)**4\n",
    "        sh_up = -rho*cp * (temp_air - temp_g)/ra\n",
    "        lh_up = -rho*le * (q_air - q_g)/(ra+rsrf)\n",
    "        gh = -k_soil/depth_soil * (temp_soil - temp_g)\n",
    "        \n",
    "        f = -rad_forcing + lw_up + lh_up + sh_up + gh\n",
    "        df = 4.*sigma*(temp_g+273.15)**3 + rho*cp/ra + rho*le/(ra+rsrf)*dq_g + k_soil/depth_soil\n",
    "        \n",
    "        dtemp = - f/df\n",
    "        temp_g1 = temp_g + dtemp\n",
    "        temp_g = temp_g1\n",
    "        niter += 1\n",
    "    \n",
    "    print(\"Number of iterations: \" + str(niter))\n",
    "    print(\"Precision (log10) = \" + str(round(log10(abs(dtemp)),2)))\n",
    "    print(\"Surface temperature = \" + str(round(temp_g,2)) + \" degC\")\n",
    "    print(\"----\")\n",
    "    print(\"Shortwave_up = \" + str(round(sw_down*albedo/100.,2)) + \" W/m2\")\n",
    "    print(\"Longwave up = \" + str(round(lw_up,2)) + \" W/m2\")\n",
    "    print(\"Sensible heat = \" + str(round(sh_up,2)) + \" W/m2\")\n",
    "    print(\"Latent heat = \" + str(round(lh_up,2)) + \" W/m2\")\n",
    "    print(\"Ground heat = \" + str(round(gh,2)) + \" W/m2\")      "
   ]
  },
  {
   "cell_type": "code",
   "execution_count": 8,
   "metadata": {},
   "outputs": [
    {
     "name": "stdout",
     "output_type": "stream",
     "text": [
      "Number of iterations: 3\n",
      "Precision (log10) = -3.98\n",
      "Surface temperature = 25.03 degC\n",
      "----\n",
      "Shortwave_up = 350.0 W/m2\n",
      "Longwave up = 448.21 W/m2\n",
      "Sensible heat = 126.31 W/m2\n",
      "Latent heat = 50.08 W/m2\n",
      "Ground heat = -74.59 W/m2\n"
     ]
    }
   ],
   "source": [
    "ebalance_surface(sw_down, lw_down, ra, rsrf, alpha, temp_air, rh, temp_soil)"
   ]
  },
  {
   "cell_type": "code",
   "execution_count": null,
   "metadata": {},
   "outputs": [],
   "source": []
  }
 ],
 "metadata": {
  "kernelspec": {
   "display_name": "Python 3",
   "language": "python",
   "name": "python3"
  },
  "language_info": {
   "codemirror_mode": {
    "name": "ipython",
    "version": 3
   },
   "file_extension": ".py",
   "mimetype": "text/x-python",
   "name": "python",
   "nbconvert_exporter": "python",
   "pygments_lexer": "ipython3",
   "version": "3.5.3"
  }
 },
 "nbformat": 4,
 "nbformat_minor": 2
}
